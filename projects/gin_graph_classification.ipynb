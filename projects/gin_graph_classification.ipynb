{
 "cells": [
  {
   "cell_type": "markdown",
   "metadata": {},
   "source": [
    "# Standard node-classification using\n",
    "\n",
    "Revision - 1.00, 16th October.2020"
   ]
  },
  {
   "cell_type": "code",
   "execution_count": 1,
   "metadata": {},
   "outputs": [],
   "source": [
    "import torch\n",
    "from torch_geometric.datasets import TUDataset\n",
    "from torch_geometric.datasets import Planetoid\n",
    "from torch_geometric.data import DataLoader\n",
    "from tensorboardX import SummaryWriter\n",
    "import networkx as nx\n",
    "import time\n",
    "from datetime import datetime\n",
    "\n",
    "# to visualize high dimensional data\n",
    "from sklearn.manifold import TSNE\n",
    "import numpy as np\n",
    "import matplotlib.pyplot as plt\n",
    "from sklearn.metrics import confusion_matrix\n",
    "import seaborn as sns\n",
    "import pandas as pd\n",
    "\n",
    "\n",
    "import os\n",
    "import sys\n",
    "sys.path.append(f\"C:\\\\Users\\\\verma\\\\Desktop\\\\git\\\\anshul\")\n",
    "\n",
    "import GNN.torch.gcn_v1"
   ]
  },
  {
   "cell_type": "markdown",
   "metadata": {},
   "source": [
    "Here a graph classification task on the IMDB-BINARY dataset, classification of movies (1000 movies)."
   ]
  },
  {
   "cell_type": "code",
   "execution_count": 2,
   "metadata": {},
   "outputs": [
    {
     "name": "stdout",
     "output_type": "stream",
     "text": [
      "Epoch 0. Loss: 0.7065. Validation accuracy: 0.5600\n",
      "Epoch 10. Loss: 0.6499. Validation accuracy: 0.5800\n",
      "Epoch 20. Loss: 0.6093. Validation accuracy: 0.6000\n",
      "Epoch 30. Loss: 0.6026. Validation accuracy: 0.6300\n",
      "Epoch 40. Loss: 0.5928. Validation accuracy: 0.6100\n",
      "Epoch 50. Loss: 0.6037. Validation accuracy: 0.6700\n",
      "Epoch 60. Loss: 0.6104. Validation accuracy: 0.7200\n",
      "Epoch 70. Loss: 0.6007. Validation accuracy: 0.7100\n",
      "Epoch 80. Loss: 0.5833. Validation accuracy: 0.6700\n",
      "Epoch 90. Loss: 0.5790. Validation accuracy: 0.6500\n",
      "Epoch 100. Loss: 0.5672. Validation accuracy: 0.6200\n",
      "Epoch 110. Loss: 0.5875. Validation accuracy: 0.7200\n",
      "Epoch 120. Loss: 0.5801. Validation accuracy: 0.6800\n",
      "Epoch 130. Loss: 0.5808. Validation accuracy: 0.6700\n",
      "Epoch 140. Loss: 0.6091. Validation accuracy: 0.5800\n",
      "Epoch 150. Loss: 0.6046. Validation accuracy: 0.5800\n",
      "Epoch 160. Loss: 0.6018. Validation accuracy: 0.6000\n",
      "Epoch 170. Loss: 0.6087. Validation accuracy: 0.6000\n",
      "Epoch 180. Loss: 0.6094. Validation accuracy: 0.5800\n",
      "Epoch 190. Loss: 0.5867. Validation accuracy: 0.7000\n",
      "Test accuracy 0.7000\n"
     ]
    }
   ],
   "source": [
    "writer = SummaryWriter(\"./log/\" + datetime.now().strftime(\"%Y%m%d-%H%M%S\"))\n",
    "\n",
    "# stndard data-set for graph classification\n",
    "dataset = TUDataset(root='/tmp/IMDB-BINARY', name='IMDB-BINARY')\n",
    "dataset = dataset.shuffle()\n",
    "task = 'graph'\n",
    "# By default the version 1  mode has 3 layers and 200 epochs will change it to a class which can then be used\n",
    "model = GNN.torch.gcn_v1.train(dataset, task, writer)"
   ]
  },
  {
   "cell_type": "markdown",
   "metadata": {},
   "source": [
    "## Visualizing performance\n",
    "(on entire dataset includes training points) --> will improve in new versions."
   ]
  },
  {
   "cell_type": "code",
   "execution_count": 3,
   "metadata": {},
   "outputs": [
    {
     "name": "stdout",
     "output_type": "stream",
     "text": [
      "Accuracy of the model is 66.70%\n"
     ]
    },
    {
     "data": {
      "image/png": "[encoded data removed]",
      "text/plain": [
       "<Figure size 720x504 with 2 Axes>"
      ]
     },
     "metadata": {
      "needs_background": "light"
     },
     "output_type": "display_data"
    }
   ],
   "source": [
    "loader = DataLoader(dataset, batch_size=32, shuffle=True)\n",
    "y_preds = []\n",
    "y_trues = []\n",
    "for batch in loader:\n",
    "    emb, preds = model(batch)\n",
    "    y_trues.append([y for y in batch.y.detach().numpy()])\n",
    "    y_preds.append([np.argmax(pred, axis=0) for pred in preds.detach().numpy()])\n",
    "\n",
    "y_trues = [j for sub in y_trues for j in sub]\n",
    "y_preds = [j for sub in y_preds for j in sub]\n",
    "\n",
    "y_trues = np.array(y_trues)\n",
    "y_preds = np.array(y_preds)\n",
    "\n",
    "#Plotting confusion matrix\n",
    "classes = np.unique(y_trues)\n",
    "cm = confusion_matrix(y_preds, y_trues)\n",
    "df_cm = pd.DataFrame(cm, index = [i for i in classes],columns = [i for i in classes])\n",
    "plt.figure(figsize = (10,7))\n",
    "plt.title('Confusion Matrix')\n",
    "\n",
    "\n",
    "sns.heatmap(df_cm, annot=True, cmap=\"YlGnBu\")\n",
    "plt.xlabel('True Labels')\n",
    "plt.ylabel('Predicted Labels')\n",
    "\n",
    "\n",
    "acc = (((y_trues == y_preds).astype(int).sum())/len(y_trues))*100\n",
    "\n",
    "print('Accuracy of the model is %.2f%%' % (acc))"
   ]
  },
  {
   "cell_type": "markdown",
   "metadata": {},
   "source": [
    "Not saving the best model at the moment will chnage in later versions."
   ]
  },
  {
   "cell_type": "code",
   "execution_count": 4,
   "metadata": {},
   "outputs": [],
   "source": [
    "#END"
   ]
  }
 ],
 "metadata": {
  "kernelspec": {
   "display_name": "Python 3",
   "language": "python",
   "name": "python3"
  },
  "language_info": {
   "codemirror_mode": {
    "name": "ipython",
    "version": 3
   },
   "file_extension": ".py",
   "mimetype": "text/x-python",
   "name": "python",
   "nbconvert_exporter": "python",
   "pygments_lexer": "ipython3",
   "version": "3.8.3"
  }
 },
 "nbformat": 4,
 "nbformat_minor": 4
}
